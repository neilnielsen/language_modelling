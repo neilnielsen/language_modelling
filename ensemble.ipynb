{
  "nbformat": 4,
  "nbformat_minor": 0,
  "metadata": {
    "colab": {
      "name": "ensemble.ipynb",
      "provenance": [],
      "collapsed_sections": [],
      "machine_shape": "hm",
      "authorship_tag": "ABX9TyPikuL+IiDHjZmVWf0x7Agi",
      "include_colab_link": true
    },
    "kernelspec": {
      "name": "python3",
      "display_name": "Python 3"
    },
    "accelerator": "GPU"
  },
  "cells": [
    {
      "cell_type": "markdown",
      "metadata": {
        "id": "view-in-github",
        "colab_type": "text"
      },
      "source": [
        "<a href=\"https://colab.research.google.com/github/neilnielsen/language_modelling/blob/master/ensemble.ipynb\" target=\"_parent\"><img src=\"https://colab.research.google.com/assets/colab-badge.svg\" alt=\"Open In Colab\"/></a>"
      ]
    },
    {
      "cell_type": "code",
      "metadata": {
        "id": "39OPq4v-8BoC",
        "colab_type": "code",
        "colab": {}
      },
      "source": [
        "from collections import defaultdict\n",
        "from bs4 import BeautifulSoup\n",
        "import matplotlib.pyplot as plt\n",
        "import pandas as pd\n",
        "import numpy as np\n",
        "import pickle\n",
        "import os\n",
        "import re\n",
        "\n",
        "import nltk\n",
        "from nltk.tokenize import word_tokenize\n",
        "from nltk.corpus import stopwords"
      ],
      "execution_count": 0,
      "outputs": []
    },
    {
      "cell_type": "code",
      "metadata": {
        "id": "nqoTs6Xl8f0h",
        "colab_type": "code",
        "colab": {}
      },
      "source": [
        "import gensim\n",
        "from gensim.models import Word2Vec, KeyedVectors"
      ],
      "execution_count": 0,
      "outputs": []
    },
    {
      "cell_type": "code",
      "metadata": {
        "id": "xHKbWlLxn1tz",
        "colab_type": "code",
        "colab": {}
      },
      "source": [
        "!pip install --upgrade pip setuptools wheel\n",
        "!pip install -I tensorflow\n",
        "!pip install -I keras"
      ],
      "execution_count": 0,
      "outputs": []
    },
    {
      "cell_type": "code",
      "metadata": {
        "id": "nP7-3ZhP8hB3",
        "colab_type": "code",
        "outputId": "22c5510f-7757-4e66-9891-9c2ffec4a67e",
        "colab": {
          "base_uri": "https://localhost:8080/",
          "height": 80
        }
      },
      "source": [
        "import keras.backend as k\n",
        "from keras.utils import plot_model\n",
        "\n",
        "from keras.preprocessing.text import Tokenizer\n",
        "from keras.preprocessing import sequence\n",
        "\n",
        "from keras.models import Sequential, Model, load_model\n",
        "\n",
        "from keras.layers import Dense, Dropout, Activation, Flatten, Input, concatenate\n",
        "from keras.layers import Embedding\n",
        "from keras.layers import LSTM, GRU\n",
        "from keras.layers import Conv1D, MaxPooling1D, GlobalMaxPooling1D\n",
        "\n",
        "from keras.regularizers import l1\n",
        "\n",
        "from keras.initializers import Constant\n",
        "from keras.callbacks import EarlyStopping"
      ],
      "execution_count": 3,
      "outputs": [
        {
          "output_type": "stream",
          "text": [
            "Using TensorFlow backend.\n"
          ],
          "name": "stderr"
        },
        {
          "output_type": "display_data",
          "data": {
            "text/html": [
              "<p style=\"color: red;\">\n",
              "The default version of TensorFlow in Colab will switch to TensorFlow 2.x on the 27th of March, 2020.<br>\n",
              "We recommend you <a href=\"https://www.tensorflow.org/guide/migrate\" target=\"_blank\">upgrade</a> now\n",
              "or ensure your notebook will continue to use TensorFlow 1.x via the <code>%tensorflow_version 1.x</code> magic:\n",
              "<a href=\"https://colab.research.google.com/notebooks/tensorflow_version.ipynb\" target=\"_blank\">more info</a>.</p>\n"
            ],
            "text/plain": [
              "<IPython.core.display.HTML object>"
            ]
          },
          "metadata": {
            "tags": []
          }
        }
      ]
    },
    {
      "cell_type": "code",
      "metadata": {
        "id": "x9zlOj2VBO6F",
        "colab_type": "code",
        "outputId": "d23e04a7-f9a3-40fb-a77a-0e191e55e9b5",
        "colab": {
          "base_uri": "https://localhost:8080/",
          "height": 68
        }
      },
      "source": [
        "import nltk\n",
        "nltk.download('stopwords')"
      ],
      "execution_count": 4,
      "outputs": [
        {
          "output_type": "stream",
          "text": [
            "[nltk_data] Downloading package stopwords to /root/nltk_data...\n",
            "[nltk_data]   Unzipping corpora/stopwords.zip.\n"
          ],
          "name": "stdout"
        },
        {
          "output_type": "execute_result",
          "data": {
            "text/plain": [
              "True"
            ]
          },
          "metadata": {
            "tags": []
          },
          "execution_count": 4
        }
      ]
    },
    {
      "cell_type": "code",
      "metadata": {
        "id": "5ZsZQZ1Ainn3",
        "colab_type": "code",
        "outputId": "a15fbc03-5a4d-4cb7-a490-bb76682d992a",
        "colab": {
          "base_uri": "https://localhost:8080/",
          "height": 204
        }
      },
      "source": [
        "!wget -P / -c \"https://s3.amazonaws.com/dl4j-distribution/GoogleNews-vectors-negative300.bin.gz\""
      ],
      "execution_count": 10,
      "outputs": [
        {
          "output_type": "stream",
          "text": [
            "--2020-03-25 17:23:23--  https://s3.amazonaws.com/dl4j-distribution/GoogleNews-vectors-negative300.bin.gz\n",
            "Resolving s3.amazonaws.com (s3.amazonaws.com)... 52.217.15.46\n",
            "Connecting to s3.amazonaws.com (s3.amazonaws.com)|52.217.15.46|:443... connected.\n",
            "HTTP request sent, awaiting response... 200 OK\n",
            "Length: 1647046227 (1.5G) [application/x-gzip]\n",
            "Saving to: ‘GoogleNews-vectors-negative300.bin.gz’\n",
            "\n",
            "oogleNews-vectors-n 100%[===================>]   1.53G  44.5MB/s    in 36s     \n",
            "\n",
            "2020-03-25 17:24:00 (43.0 MB/s) - ‘GoogleNews-vectors-negative300.bin.gz’ saved [1647046227/1647046227]\n",
            "\n"
          ],
          "name": "stdout"
        }
      ]
    },
    {
      "cell_type": "code",
      "metadata": {
        "id": "yMbhTin6inlG",
        "colab_type": "code",
        "colab": {}
      },
      "source": [
        "EMBEDDING_FILE = 'GoogleNews-vectors-negative300.bin.gz'"
      ],
      "execution_count": 0,
      "outputs": []
    },
    {
      "cell_type": "code",
      "metadata": {
        "id": "XkAQqWCAiniE",
        "colab_type": "code",
        "outputId": "a213446a-02c9-4b27-866a-86ea242d4b53",
        "colab": {
          "base_uri": "https://localhost:8080/",
          "height": 71
        }
      },
      "source": [
        "word2vec = KeyedVectors.load_word2vec_format(EMBEDDING_FILE, binary=True)"
      ],
      "execution_count": 44,
      "outputs": [
        {
          "output_type": "stream",
          "text": [
            "/usr/local/lib/python3.6/dist-packages/smart_open/smart_open_lib.py:410: UserWarning: This function is deprecated, use smart_open.open instead. See the migration notes for details: https://github.com/RaRe-Technologies/smart_open/blob/master/README.rst#migrating-to-the-new-open-function\n",
            "  'See the migration notes for details: %s' % _MIGRATION_NOTES_URL\n"
          ],
          "name": "stderr"
        }
      ]
    },
    {
      "cell_type": "code",
      "metadata": {
        "id": "bVgs-MpJ8iM7",
        "colab_type": "code",
        "colab": {}
      },
      "source": [
        "max_features = 1000\n",
        "maxlen = 500\n",
        "embedding_size = 300"
      ],
      "execution_count": 0,
      "outputs": []
    },
    {
      "cell_type": "code",
      "metadata": {
        "id": "tceYVTsY9enZ",
        "colab_type": "code",
        "colab": {}
      },
      "source": [
        "df_train = pd.read_csv(\"electronics_train.csv\")"
      ],
      "execution_count": 0,
      "outputs": []
    },
    {
      "cell_type": "code",
      "metadata": {
        "id": "DJYaP4_y8lah",
        "colab_type": "code",
        "colab": {}
      },
      "source": [
        "df_dev_1 = pd.read_csv(\"home_tune.csv\")\n",
        "df_dev_2 = pd.read_csv(\"toys_tune.csv\")\n",
        "df_dev = pd.concat([df_dev_1, df_dev_2])"
      ],
      "execution_count": 0,
      "outputs": []
    },
    {
      "cell_type": "code",
      "metadata": {
        "id": "uM0i48hv8vDt",
        "colab_type": "code",
        "colab": {}
      },
      "source": [
        "df_train.dropna(inplace=True)\n",
        "df_dev.dropna(inplace=True)"
      ],
      "execution_count": 0,
      "outputs": []
    },
    {
      "cell_type": "code",
      "metadata": {
        "id": "WsBHVtwU9w8o",
        "colab_type": "code",
        "colab": {}
      },
      "source": [
        "def clean_text(text, lower=True):\n",
        "    if type(text) == float:\n",
        "        return ' '\n",
        "    cleaned = BeautifulSoup(text).get_text()\n",
        "    cleaned = re.sub(r'&quot;', '\"', cleaned)\n",
        "    cleaned = re.sub(\"[^a-zA-Z]\",\" \", cleaned)\n",
        "    if lower:\n",
        "        cleaned = cleaned.lower().split()\n",
        "    else:\n",
        "        cleaned = cleaned.split()\n",
        "    \n",
        "    stops = set(stopwords.words(\"english\"))\n",
        "    cleaned = [w for w in cleaned if not w in stops]\n",
        "    return cleaned"
      ],
      "execution_count": 0,
      "outputs": []
    },
    {
      "cell_type": "code",
      "metadata": {
        "id": "30n9kFG19x4E",
        "colab_type": "code",
        "outputId": "536780d4-90e0-4524-d913-9224bce53bdd",
        "colab": {
          "base_uri": "https://localhost:8080/",
          "height": 173
        }
      },
      "source": [
        "df_train[\"reviewText_clean\"] = df_train.reviewText.apply(clean_text)\n",
        "df_train[\"summary_clean\"] = df_train.summary.apply(clean_text)\n",
        "df_dev[\"reviewText_clean\"] = df_dev.reviewText.apply(clean_text)\n",
        "df_dev[\"summary_clean\"] = df_dev.summary.apply(clean_text)"
      ],
      "execution_count": 18,
      "outputs": [
        {
          "output_type": "stream",
          "text": [
            "/usr/local/lib/python3.6/dist-packages/bs4/__init__.py:336: UserWarning: \"http://www.flickr.com/photos/daovang/\" looks like a URL. Beautiful Soup is not an HTTP client. You should probably use an HTTP client like requests to get the document behind the URL, and feed that document to Beautiful Soup.\n",
            "  ' that document to Beautiful Soup.' % decoded_markup\n",
            "/usr/local/lib/python3.6/dist-packages/bs4/__init__.py:336: UserWarning: \"http://www.amazon.com/gp/product/B0026JGDMC/ref=cm_cr_rev_prod_title/175-2885001-8287551\" looks like a URL. Beautiful Soup is not an HTTP client. You should probably use an HTTP client like requests to get the document behind the URL, and feed that document to Beautiful Soup.\n",
            "  ' that document to Beautiful Soup.' % decoded_markup\n",
            "/usr/local/lib/python3.6/dist-packages/bs4/__init__.py:273: UserWarning: \"b'.'\" looks like a filename, not markup. You should probably open this file and pass the filehandle into Beautiful Soup.\n",
            "  ' Beautiful Soup.' % markup)\n",
            "/usr/local/lib/python3.6/dist-packages/bs4/__init__.py:336: UserWarning: \"http://www.amazon.com/gp/product/B0030BHLLM/ref=cm_cr_rev_prod_title\" looks like a URL. Beautiful Soup is not an HTTP client. You should probably use an HTTP client like requests to get the document behind the URL, and feed that document to Beautiful Soup.\n",
            "  ' that document to Beautiful Soup.' % decoded_markup\n"
          ],
          "name": "stderr"
        }
      ]
    },
    {
      "cell_type": "code",
      "metadata": {
        "id": "QJX-y9XZ90dY",
        "colab_type": "code",
        "colab": {}
      },
      "source": [
        "polarity_dict = {'positive': 1, 'negative': 0}"
      ],
      "execution_count": 0,
      "outputs": []
    },
    {
      "cell_type": "code",
      "metadata": {
        "id": "GMXVW7Ny90pU",
        "colab_type": "code",
        "colab": {}
      },
      "source": [
        "df_train[\"polarity_enc\"] = df_train.polarity.map(polarity_dict)\n",
        "df_dev[\"polarity_enc\"] = df_dev.polarity.map(polarity_dict)"
      ],
      "execution_count": 0,
      "outputs": []
    },
    {
      "cell_type": "code",
      "metadata": {
        "id": "i-rc85LDEGpU",
        "colab_type": "code",
        "colab": {}
      },
      "source": [
        "def create_pos_tags(text_list):\n",
        "    text_str = ' '.join(text_list)\n",
        "    tags = nltk.pos_tag(text_str)\n",
        "    tags_stripped = [tag[1] for tag in tags]\n",
        "    return tags_stripped"
      ],
      "execution_count": 0,
      "outputs": []
    },
    {
      "cell_type": "code",
      "metadata": {
        "id": "uStBlmSWECnL",
        "colab_type": "code",
        "colab": {}
      },
      "source": [
        "df_train['POS_tags'] = df_train.reviewText_clean.apply(create_pos_tags)\n",
        "df_train['POS_tags_sum'] = df_train.summary_clean.apply(create_pos_tags)"
      ],
      "execution_count": 0,
      "outputs": []
    },
    {
      "cell_type": "code",
      "metadata": {
        "id": "6_aQhgkaK0Wa",
        "colab_type": "code",
        "colab": {}
      },
      "source": [
        "df_train.to_pickle('df_train_attr.pickle')"
      ],
      "execution_count": 0,
      "outputs": []
    },
    {
      "cell_type": "code",
      "metadata": {
        "id": "1pFN1vy4W6QO",
        "colab_type": "code",
        "colab": {}
      },
      "source": [
        "df_pos = pd.Series(sum([item for item in df_train.POS_tags], [])).value_counts()"
      ],
      "execution_count": 0,
      "outputs": []
    },
    {
      "cell_type": "code",
      "metadata": {
        "id": "pJWe42taZMtk",
        "colab_type": "code",
        "colab": {}
      },
      "source": [
        "df_pos"
      ],
      "execution_count": 0,
      "outputs": []
    },
    {
      "cell_type": "code",
      "metadata": {
        "id": "_2ONyk9291N_",
        "colab_type": "code",
        "colab": {}
      },
      "source": [
        "def generate_review_lines(df, col):\n",
        "    reviews = df[col].tolist()\n",
        "    \n",
        "    review_lines = list()\n",
        "    \n",
        "    for rev in reviews:\n",
        "        tokens = [word for word in rev if word.isalpha()]\n",
        "        review_lines.append(tokens)\n",
        "    return review_lines"
      ],
      "execution_count": 0,
      "outputs": []
    },
    {
      "cell_type": "code",
      "metadata": {
        "id": "P0XEJsA191T1",
        "colab_type": "code",
        "colab": {}
      },
      "source": [
        "review_lines_rev = generate_review_lines(df_train, 'reviewText_clean')\n",
        "review_lines_sum = generate_review_lines(df_train, 'summary_clean')\n",
        "\n",
        "review_lines_rev_dev = generate_review_lines(df_dev, 'reviewText_clean')\n",
        "review_lines_sum_dev = generate_review_lines(df_dev, 'summary_clean')"
      ],
      "execution_count": 0,
      "outputs": []
    },
    {
      "cell_type": "code",
      "metadata": {
        "id": "bY5jNYOT4oUs",
        "colab_type": "code",
        "colab": {}
      },
      "source": [
        "emb_model_rev = Word2Vec(review_lines_rev, min_count=1, size=300)\n",
        "emb_model_sum = Word2Vec(review_lines_sum, min_count=1, size=300)"
      ],
      "execution_count": 0,
      "outputs": []
    },
    {
      "cell_type": "code",
      "metadata": {
        "id": "jH4Hgq1F91Qi",
        "colab_type": "code",
        "outputId": "fa31595d-f777-4de1-9992-529cee0dbe8f",
        "colab": {
          "base_uri": "https://localhost:8080/",
          "height": 71
        }
      },
      "source": [
        "# Put these aside\n",
        "emb_model_rev = Word2Vec.load(\"300features_40minwords_10context\")\n",
        "emb_model_sum = Word2Vec.load(\"300features_40minwords_10context_SUMMARY\")"
      ],
      "execution_count": 23,
      "outputs": [
        {
          "output_type": "stream",
          "text": [
            "/usr/local/lib/python3.6/dist-packages/smart_open/smart_open_lib.py:410: UserWarning: This function is deprecated, use smart_open.open instead. See the migration notes for details: https://github.com/RaRe-Technologies/smart_open/blob/master/README.rst#migrating-to-the-new-open-function\n",
            "  'See the migration notes for details: %s' % _MIGRATION_NOTES_URL\n"
          ],
          "name": "stderr"
        }
      ]
    },
    {
      "cell_type": "code",
      "metadata": {
        "id": "-lLX7KN990nZ",
        "colab_type": "code",
        "colab": {}
      },
      "source": [
        "tok_obj_rev = Tokenizer()\n",
        "tok_obj_rev.fit_on_texts(review_lines_rev)\n",
        "sequences_rev = tok_obj_rev.texts_to_sequences(review_lines_rev)\n",
        "sequences_rev_dev = tok_obj_rev.texts_to_sequences(review_lines_rev_dev)\n",
        "\n",
        "tok_obj_sum = Tokenizer()\n",
        "tok_obj_sum.fit_on_texts(review_lines_sum)\n",
        "sequences_sum = tok_obj_sum.texts_to_sequences(review_lines_sum)\n",
        "sequences_sum_dev = tok_obj_sum.texts_to_sequences(review_lines_sum_dev)"
      ],
      "execution_count": 0,
      "outputs": []
    },
    {
      "cell_type": "code",
      "metadata": {
        "id": "Z-gzgHlv90kD",
        "colab_type": "code",
        "colab": {}
      },
      "source": [
        "sequences_rev = tok_obj_rev.texts_to_sequences(review_lines_rev)\n",
        "sequences_sum = tok_obj_sum.texts_to_sequences(review_lines_sum)"
      ],
      "execution_count": 0,
      "outputs": []
    },
    {
      "cell_type": "code",
      "metadata": {
        "id": "gHkxm_CN90iL",
        "colab_type": "code",
        "colab": {}
      },
      "source": [
        "word_index_rev = tok_obj_rev.word_index\n",
        "rev_pad = sequence.pad_sequences(sequences_rev, maxlen = max_features)\n",
        "rev_pad_dev = sequence.pad_sequences(sequences_rev_dev, maxlen = max_features)\n",
        "\n",
        "word_index_sum = tok_obj_sum.word_index\n",
        "sum_pad = sequence.pad_sequences(sequences_sum, maxlen = max_features)\n",
        "sum_pad_dev = sequence.pad_sequences(sequences_sum_dev, maxlen = max_features)\n",
        "\n",
        "sentiment = df_train.polarity_enc.values\n",
        "sentiment_dev = df_dev.polarity_enc.values"
      ],
      "execution_count": 0,
      "outputs": []
    },
    {
      "cell_type": "code",
      "metadata": {
        "id": "53Dc8B4A-EVs",
        "colab_type": "code",
        "colab": {}
      },
      "source": [
        "def create_emb_matrix(emb_model, tok_obj, word_index, google=False):\n",
        "    num_words = len(word_index)+1\n",
        "    emb_matrix = np.zeros((num_words, embedding_size))\n",
        "    counter = 0\n",
        "    unks = list()\n",
        "    for word, i in word_index.items():\n",
        "        if i > num_words:\n",
        "            continue\n",
        "        try:\n",
        "            if not google:\n",
        "                emb_vector = emb_model.wv[word]\n",
        "                emb_matrix[i] = emb_vector\n",
        "            else:\n",
        "                emb_vector = emb_model.word_vec(word)\n",
        "                emb_matrix[i] = emb_vector\n",
        "        except KeyError:\n",
        "            counter += 1\n",
        "            unks.append(word)\n",
        "            continue\n",
        "    print(counter)\n",
        "    return emb_matrix, unks"
      ],
      "execution_count": 0,
      "outputs": []
    },
    {
      "cell_type": "code",
      "metadata": {
        "id": "kTxwPt12-EoX",
        "colab_type": "code",
        "colab": {
          "base_uri": "https://localhost:8080/",
          "height": 51
        },
        "outputId": "e0fed8a2-c205-4ef8-d6a3-8c93080cfb21"
      },
      "source": [
        "emb_matrix_rev, rev_unks = create_emb_matrix(emb_model_rev, tok_obj_rev, word_index_rev)\n",
        "emb_matrix_sum, sum_unks = create_emb_matrix(emb_model_sum, tok_obj_sum, word_index_sum)"
      ],
      "execution_count": 71,
      "outputs": [
        {
          "output_type": "stream",
          "text": [
            "0\n",
            "0\n"
          ],
          "name": "stdout"
        }
      ]
    },
    {
      "cell_type": "code",
      "metadata": {
        "id": "p3Eqee2ukOvC",
        "colab_type": "code",
        "colab": {
          "base_uri": "https://localhost:8080/",
          "height": 51
        },
        "outputId": "173f5863-b3bd-4718-9672-209d2fd75da6"
      },
      "source": [
        "emb_matrix_rev_g, rev_unks_g = create_emb_matrix(word2vec, tok_obj_rev, word_index_rev, google=True)\n",
        "emb_matrix_sum_g, sum_unks_g = create_emb_matrix(word2vec, tok_obj_sum, word_index_sum, google=True)\n",
        "\n",
        "#del word2vec"
      ],
      "execution_count": 85,
      "outputs": [
        {
          "output_type": "stream",
          "text": [
            "75778\n",
            "5684\n"
          ],
          "name": "stdout"
        }
      ]
    },
    {
      "cell_type": "code",
      "metadata": {
        "id": "GT7zxRnk3Uaz",
        "colab_type": "code",
        "colab": {
          "base_uri": "https://localhost:8080/",
          "height": 187
        },
        "outputId": "910ed613-7505-4945-de7c-01745ebf37be"
      },
      "source": [
        "rev_unks_g[:10]"
      ],
      "execution_count": 84,
      "outputs": [
        {
          "output_type": "execute_result",
          "data": {
            "text/plain": [
              "['netgear',\n",
              " 'belkin',\n",
              " 'sandisk',\n",
              " 'rca',\n",
              " 'olympus',\n",
              " 'sennheiser',\n",
              " 'onkyo',\n",
              " 'sansa',\n",
              " 'magellan',\n",
              " 'sdhc']"
            ]
          },
          "metadata": {
            "tags": []
          },
          "execution_count": 84
        }
      ]
    },
    {
      "cell_type": "code",
      "metadata": {
        "id": "A5RuEp4I-Elj",
        "colab_type": "code",
        "colab": {}
      },
      "source": [
        "with open('train_cluster_1000.pickle', 'rb') as handle:\n",
        "  clus_train = pickle.load(handle)\n",
        "    \n",
        "with open('dev_cluster_1000.pickle', 'rb') as handle:\n",
        "  clus_dev = pickle.load(handle)"
      ],
      "execution_count": 0,
      "outputs": []
    },
    {
      "cell_type": "code",
      "metadata": {
        "id": "qDSRG0or-EjW",
        "colab_type": "code",
        "colab": {}
      },
      "source": [
        "assert rev_pad.shape == clus_train.shape\n",
        "assert rev_pad_dev.shape == clus_dev.shape"
      ],
      "execution_count": 0,
      "outputs": []
    },
    {
      "cell_type": "code",
      "metadata": {
        "id": "9v1_U20lmbNu",
        "colab_type": "code",
        "colab": {
          "base_uri": "https://localhost:8080/",
          "height": 71
        },
        "outputId": "18f3799a-18d7-40c7-e8c0-39c2ac8dfdd8"
      },
      "source": [
        "k.clear_session()"
      ],
      "execution_count": 76,
      "outputs": [
        {
          "output_type": "stream",
          "text": [
            "WARNING:tensorflow:From /usr/local/lib/python3.6/dist-packages/keras/backend/tensorflow_backend.py:107: The name tf.reset_default_graph is deprecated. Please use tf.compat.v1.reset_default_graph instead.\n",
            "\n"
          ],
          "name": "stdout"
        }
      ]
    },
    {
      "cell_type": "code",
      "metadata": {
        "id": "U_fOoPZn-Egz",
        "colab_type": "code",
        "colab": {}
      },
      "source": [
        "in_review = Input(shape=(max_features,), name = 'reviewText')\n",
        "in_summary = Input(shape=(max_features,), name = 'summary')\n",
        "\n",
        "emb_rev = Embedding(len(word_index_rev)+1, \n",
        "                    embedding_size, \n",
        "                    embeddings_initializer=Constant(emb_matrix_rev),\n",
        "                    input_length=max_features,\n",
        "                    trainable=False\n",
        "                   )(in_review)\n",
        "\n",
        "emb_sum = Embedding(len(word_index_sum)+1, \n",
        "                    embedding_size, \n",
        "                    embeddings_initializer=Constant(emb_matrix_sum),\n",
        "                    input_length=max_features,\n",
        "                    trainable=False\n",
        "                   )(in_summary)\n",
        "\n",
        "fe_own = concatenate([(emb_rev), (emb_sum)])\n",
        "\n",
        "x = Conv1D(128, 5, activation='relu')(fe_own)\n",
        "x = MaxPooling1D(5)(x)\n",
        "x = Conv1D(128, 5, activation='relu')(x)\n",
        "x = MaxPooling1D(5)(x)\n",
        "x = Conv1D(128, 5, activation='relu')(x)\n",
        "x = Dropout(0.5)(x)\n",
        "x = GlobalMaxPooling1D()(x)\n",
        "x_own = Dense(500, activation='relu')(x)\n",
        "\n",
        "\n",
        "emb_rev_g = Embedding(len(word_index_rev)+1, \n",
        "                    embedding_size, \n",
        "                    embeddings_initializer=Constant(emb_matrix_rev_g),\n",
        "                    input_length=max_features,\n",
        "                    trainable=False\n",
        "                   )(in_review)\n",
        "\n",
        "emb_sum_g = Embedding(len(word_index_sum)+1, \n",
        "                    embedding_size, \n",
        "                    embeddings_initializer=Constant(emb_matrix_sum_g),\n",
        "                    input_length=max_features,\n",
        "                    trainable=False\n",
        "                   )(in_summary)\n",
        "\n",
        "fe_g = concatenate([(emb_rev_g), (emb_sum_g)])\n",
        "\n",
        "x = Conv1D(128, 5, activation='relu')(fe_g)\n",
        "x = MaxPooling1D(5)(x)\n",
        "x = Conv1D(128, 5, activation='relu')(x)\n",
        "x = MaxPooling1D(5)(x)\n",
        "x = Conv1D(128, 5, activation='relu')(x)\n",
        "x = Dropout(0.5)(x)\n",
        "x = GlobalMaxPooling1D()(x)\n",
        "x_g = Dense(500, activation='relu')(x)\n",
        "\n",
        "x = concatenate([x_own, x_g])\n",
        "x = Dense(500)(x)\n",
        "\n",
        "\n",
        "in_clus = Input(shape=(max_features,), name='cluster')\n",
        "clus_layer = Dense(1000)(in_clus)\n",
        "\n",
        "x_clus = Dense(512, activation='relu')(clus_layer)\n",
        "\n",
        "x = concatenate([(x), (x_clus)])\n",
        "\n",
        "x = Dense(256)(x)\n",
        "\n",
        "preds = Dense(1, activation='sigmoid')(x)\n",
        "\n",
        "model = Model(inputs=[in_review, in_summary, in_clus], outputs=preds)\n",
        "model.compile(loss='binary_crossentropy',\n",
        "              optimizer='adam',\n",
        "              metrics=['accuracy'])"
      ],
      "execution_count": 0,
      "outputs": []
    },
    {
      "cell_type": "code",
      "metadata": {
        "id": "ZqI-3PzpLgRl",
        "colab_type": "code",
        "colab": {
          "base_uri": "https://localhost:8080/",
          "height": 1000
        },
        "outputId": "d2ac28e8-0194-41c1-d42a-9ff39bfc3950"
      },
      "source": [
        "plot_model(model)"
      ],
      "execution_count": 91,
      "outputs": [
        {
          "output_type": "execute_result",
          "data": {
            "image/png": "[encoded data removed]",
            "text/plain": [
              "<IPython.core.display.Image object>"
            ]
          },
          "metadata": {
            "tags": []
          },
          "execution_count": 91
        }
      ]
    },
    {
      "cell_type": "code",
      "metadata": {
        "id": "dDWTqLSo-Ech",
        "colab_type": "code",
        "outputId": "1a86fd53-0fe2-4438-f9ea-63a0ee0e387d",
        "colab": {
          "base_uri": "https://localhost:8080/",
          "height": 1000
        }
      },
      "source": [
        "model.summary()"
      ],
      "execution_count": 88,
      "outputs": [
        {
          "output_type": "stream",
          "text": [
            "Model: \"model_2\"\n",
            "__________________________________________________________________________________________________\n",
            "Layer (type)                    Output Shape         Param #     Connected to                     \n",
            "==================================================================================================\n",
            "reviewText (InputLayer)         (None, 1000)         0                                            \n",
            "__________________________________________________________________________________________________\n",
            "summary (InputLayer)            (None, 1000)         0                                            \n",
            "__________________________________________________________________________________________________\n",
            "embedding_3 (Embedding)         (None, 1000, 300)    38589300    reviewText[0][0]                 \n",
            "__________________________________________________________________________________________________\n",
            "embedding_4 (Embedding)         (None, 1000, 300)    6503700     summary[0][0]                    \n",
            "__________________________________________________________________________________________________\n",
            "embedding_5 (Embedding)         (None, 1000, 300)    38589300    reviewText[0][0]                 \n",
            "__________________________________________________________________________________________________\n",
            "embedding_6 (Embedding)         (None, 1000, 300)    6503700     summary[0][0]                    \n",
            "__________________________________________________________________________________________________\n",
            "concatenate_3 (Concatenate)     (None, 1000, 600)    0           embedding_3[0][0]                \n",
            "                                                                 embedding_4[0][0]                \n",
            "__________________________________________________________________________________________________\n",
            "concatenate_4 (Concatenate)     (None, 1000, 600)    0           embedding_5[0][0]                \n",
            "                                                                 embedding_6[0][0]                \n",
            "__________________________________________________________________________________________________\n",
            "conv1d_4 (Conv1D)               (None, 996, 128)     384128      concatenate_3[0][0]              \n",
            "__________________________________________________________________________________________________\n",
            "conv1d_7 (Conv1D)               (None, 996, 128)     384128      concatenate_4[0][0]              \n",
            "__________________________________________________________________________________________________\n",
            "max_pooling1d_3 (MaxPooling1D)  (None, 199, 128)     0           conv1d_4[0][0]                   \n",
            "__________________________________________________________________________________________________\n",
            "max_pooling1d_5 (MaxPooling1D)  (None, 199, 128)     0           conv1d_7[0][0]                   \n",
            "__________________________________________________________________________________________________\n",
            "conv1d_5 (Conv1D)               (None, 195, 128)     82048       max_pooling1d_3[0][0]            \n",
            "__________________________________________________________________________________________________\n",
            "conv1d_8 (Conv1D)               (None, 195, 128)     82048       max_pooling1d_5[0][0]            \n",
            "__________________________________________________________________________________________________\n",
            "max_pooling1d_4 (MaxPooling1D)  (None, 39, 128)      0           conv1d_5[0][0]                   \n",
            "__________________________________________________________________________________________________\n",
            "max_pooling1d_6 (MaxPooling1D)  (None, 39, 128)      0           conv1d_8[0][0]                   \n",
            "__________________________________________________________________________________________________\n",
            "conv1d_6 (Conv1D)               (None, 35, 128)      82048       max_pooling1d_4[0][0]            \n",
            "__________________________________________________________________________________________________\n",
            "conv1d_9 (Conv1D)               (None, 35, 128)      82048       max_pooling1d_6[0][0]            \n",
            "__________________________________________________________________________________________________\n",
            "dropout_2 (Dropout)             (None, 35, 128)      0           conv1d_6[0][0]                   \n",
            "__________________________________________________________________________________________________\n",
            "dropout_3 (Dropout)             (None, 35, 128)      0           conv1d_9[0][0]                   \n",
            "__________________________________________________________________________________________________\n",
            "global_max_pooling1d_2 (GlobalM (None, 128)          0           dropout_2[0][0]                  \n",
            "__________________________________________________________________________________________________\n",
            "global_max_pooling1d_3 (GlobalM (None, 128)          0           dropout_3[0][0]                  \n",
            "__________________________________________________________________________________________________\n",
            "dense_6 (Dense)                 (None, 500)          64500       global_max_pooling1d_2[0][0]     \n",
            "__________________________________________________________________________________________________\n",
            "dense_7 (Dense)                 (None, 500)          64500       global_max_pooling1d_3[0][0]     \n",
            "__________________________________________________________________________________________________\n",
            "cluster (InputLayer)            (None, 1000)         0                                            \n",
            "__________________________________________________________________________________________________\n",
            "concatenate_5 (Concatenate)     (None, 1000)         0           dense_6[0][0]                    \n",
            "                                                                 dense_7[0][0]                    \n",
            "__________________________________________________________________________________________________\n",
            "dense_9 (Dense)                 (None, 1000)         1001000     cluster[0][0]                    \n",
            "__________________________________________________________________________________________________\n",
            "dense_8 (Dense)                 (None, 500)          500500      concatenate_5[0][0]              \n",
            "__________________________________________________________________________________________________\n",
            "dense_10 (Dense)                (None, 512)          512512      dense_9[0][0]                    \n",
            "__________________________________________________________________________________________________\n",
            "concatenate_6 (Concatenate)     (None, 1012)         0           dense_8[0][0]                    \n",
            "                                                                 dense_10[0][0]                   \n",
            "__________________________________________________________________________________________________\n",
            "dense_11 (Dense)                (None, 256)          259328      concatenate_6[0][0]              \n",
            "__________________________________________________________________________________________________\n",
            "dense_12 (Dense)                (None, 1)            257         dense_11[0][0]                   \n",
            "==================================================================================================\n",
            "Total params: 93,685,045\n",
            "Trainable params: 3,499,045\n",
            "Non-trainable params: 90,186,000\n",
            "__________________________________________________________________________________________________\n"
          ],
          "name": "stdout"
        }
      ]
    },
    {
      "cell_type": "code",
      "metadata": {
        "id": "08yLkyn8-EYj",
        "colab_type": "code",
        "colab": {}
      },
      "source": [
        "es = EarlyStopping(monitor='val_loss', mode='min', verbose=1)"
      ],
      "execution_count": 0,
      "outputs": []
    },
    {
      "cell_type": "code",
      "metadata": {
        "id": "HyZ9BvAr-Sxd",
        "colab_type": "code",
        "outputId": "8bc63180-993d-4a29-daed-f6b2b305789c",
        "colab": {
          "base_uri": "https://localhost:8080/",
          "height": 528
        }
      },
      "source": [
        "history = model.fit([rev_pad, sum_pad, clus_train], \n",
        "                    sentiment, \n",
        "                    batch_size=256,\n",
        "                    epochs=5, \n",
        "                    validation_data=([rev_pad_dev, sum_pad_dev, clus_dev], sentiment_dev), \n",
        "                    verbose=1, \n",
        "                    #callbacks=[es]\n",
        "                    )"
      ],
      "execution_count": 90,
      "outputs": [
        {
          "output_type": "stream",
          "text": [
            "Train on 199802 samples, validate on 2999 samples\n",
            "Epoch 1/5\n",
            "199802/199802 [==============================] - 118s 590us/step - loss: 0.2919 - acc: 0.8821 - val_loss: 0.3094 - val_acc: 0.8710\n",
            "Epoch 2/5\n",
            "199802/199802 [==============================] - 114s 570us/step - loss: 0.2037 - acc: 0.9192 - val_loss: 0.2844 - val_acc: 0.8880\n",
            "Epoch 3/5\n",
            "199802/199802 [==============================] - 114s 568us/step - loss: 0.1623 - acc: 0.9363 - val_loss: 0.2941 - val_acc: 0.8856\n",
            "Epoch 4/5\n",
            " 12032/199802 [>.............................] - ETA: 1:46 - loss: 0.0932 - acc: 0.9641"
          ],
          "name": "stdout"
        },
        {
          "output_type": "error",
          "ename": "KeyboardInterrupt",
          "evalue": "ignored",
          "traceback": [
            "\u001b[0;31m---------------------------------------------------------------------------\u001b[0m",
            "\u001b[0;31mKeyboardInterrupt\u001b[0m                         Traceback (most recent call last)",
            "\u001b[0;32m<ipython-input-90-8cf1058fbac3>\u001b[0m in \u001b[0;36m<module>\u001b[0;34m()\u001b[0m\n\u001b[1;32m      4\u001b[0m                     \u001b[0mepochs\u001b[0m\u001b[0;34m=\u001b[0m\u001b[0;36m5\u001b[0m\u001b[0;34m,\u001b[0m\u001b[0;34m\u001b[0m\u001b[0;34m\u001b[0m\u001b[0m\n\u001b[1;32m      5\u001b[0m                     \u001b[0mvalidation_data\u001b[0m\u001b[0;34m=\u001b[0m\u001b[0;34m(\u001b[0m\u001b[0;34m[\u001b[0m\u001b[0mrev_pad_dev\u001b[0m\u001b[0;34m,\u001b[0m \u001b[0msum_pad_dev\u001b[0m\u001b[0;34m,\u001b[0m \u001b[0mclus_dev\u001b[0m\u001b[0;34m]\u001b[0m\u001b[0;34m,\u001b[0m \u001b[0msentiment_dev\u001b[0m\u001b[0;34m)\u001b[0m\u001b[0;34m,\u001b[0m\u001b[0;34m\u001b[0m\u001b[0;34m\u001b[0m\u001b[0m\n\u001b[0;32m----> 6\u001b[0;31m                     \u001b[0mverbose\u001b[0m\u001b[0;34m=\u001b[0m\u001b[0;36m1\u001b[0m\u001b[0;34m,\u001b[0m\u001b[0;34m\u001b[0m\u001b[0;34m\u001b[0m\u001b[0m\n\u001b[0m\u001b[1;32m      7\u001b[0m                     \u001b[0;31m#callbacks=[es]\u001b[0m\u001b[0;34m\u001b[0m\u001b[0;34m\u001b[0m\u001b[0;34m\u001b[0m\u001b[0m\n\u001b[1;32m      8\u001b[0m                     )\n",
            "\u001b[0;32m/usr/local/lib/python3.6/dist-packages/keras/engine/training.py\u001b[0m in \u001b[0;36mfit\u001b[0;34m(self, x, y, batch_size, epochs, verbose, callbacks, validation_split, validation_data, shuffle, class_weight, sample_weight, initial_epoch, steps_per_epoch, validation_steps, validation_freq, max_queue_size, workers, use_multiprocessing, **kwargs)\u001b[0m\n\u001b[1;32m   1176\u001b[0m                                         \u001b[0msteps_per_epoch\u001b[0m\u001b[0;34m=\u001b[0m\u001b[0msteps_per_epoch\u001b[0m\u001b[0;34m,\u001b[0m\u001b[0;34m\u001b[0m\u001b[0;34m\u001b[0m\u001b[0m\n\u001b[1;32m   1177\u001b[0m                                         \u001b[0mvalidation_steps\u001b[0m\u001b[0;34m=\u001b[0m\u001b[0mvalidation_steps\u001b[0m\u001b[0;34m,\u001b[0m\u001b[0;34m\u001b[0m\u001b[0;34m\u001b[0m\u001b[0m\n\u001b[0;32m-> 1178\u001b[0;31m                                         validation_freq=validation_freq)\n\u001b[0m\u001b[1;32m   1179\u001b[0m \u001b[0;34m\u001b[0m\u001b[0m\n\u001b[1;32m   1180\u001b[0m     def evaluate(self,\n",
            "\u001b[0;32m/usr/local/lib/python3.6/dist-packages/keras/engine/training_arrays.py\u001b[0m in \u001b[0;36mfit_loop\u001b[0;34m(model, fit_function, fit_inputs, out_labels, batch_size, epochs, verbose, callbacks, val_function, val_inputs, shuffle, callback_metrics, initial_epoch, steps_per_epoch, validation_steps, validation_freq)\u001b[0m\n\u001b[1;32m    202\u001b[0m                     \u001b[0mins_batch\u001b[0m\u001b[0;34m[\u001b[0m\u001b[0mi\u001b[0m\u001b[0;34m]\u001b[0m \u001b[0;34m=\u001b[0m \u001b[0mins_batch\u001b[0m\u001b[0;34m[\u001b[0m\u001b[0mi\u001b[0m\u001b[0;34m]\u001b[0m\u001b[0;34m.\u001b[0m\u001b[0mtoarray\u001b[0m\u001b[0;34m(\u001b[0m\u001b[0;34m)\u001b[0m\u001b[0;34m\u001b[0m\u001b[0;34m\u001b[0m\u001b[0m\n\u001b[1;32m    203\u001b[0m \u001b[0;34m\u001b[0m\u001b[0m\n\u001b[0;32m--> 204\u001b[0;31m                 \u001b[0mouts\u001b[0m \u001b[0;34m=\u001b[0m \u001b[0mfit_function\u001b[0m\u001b[0;34m(\u001b[0m\u001b[0mins_batch\u001b[0m\u001b[0;34m)\u001b[0m\u001b[0;34m\u001b[0m\u001b[0;34m\u001b[0m\u001b[0m\n\u001b[0m\u001b[1;32m    205\u001b[0m                 \u001b[0mouts\u001b[0m \u001b[0;34m=\u001b[0m \u001b[0mto_list\u001b[0m\u001b[0;34m(\u001b[0m\u001b[0mouts\u001b[0m\u001b[0;34m)\u001b[0m\u001b[0;34m\u001b[0m\u001b[0;34m\u001b[0m\u001b[0m\n\u001b[1;32m    206\u001b[0m                 \u001b[0;32mfor\u001b[0m \u001b[0ml\u001b[0m\u001b[0;34m,\u001b[0m \u001b[0mo\u001b[0m \u001b[0;32min\u001b[0m \u001b[0mzip\u001b[0m\u001b[0;34m(\u001b[0m\u001b[0mout_labels\u001b[0m\u001b[0;34m,\u001b[0m \u001b[0mouts\u001b[0m\u001b[0;34m)\u001b[0m\u001b[0;34m:\u001b[0m\u001b[0;34m\u001b[0m\u001b[0;34m\u001b[0m\u001b[0m\n",
            "\u001b[0;32m/usr/local/lib/python3.6/dist-packages/keras/backend/tensorflow_backend.py\u001b[0m in \u001b[0;36m__call__\u001b[0;34m(self, inputs)\u001b[0m\n\u001b[1;32m   2977\u001b[0m                     \u001b[0;32mreturn\u001b[0m \u001b[0mself\u001b[0m\u001b[0;34m.\u001b[0m\u001b[0m_legacy_call\u001b[0m\u001b[0;34m(\u001b[0m\u001b[0minputs\u001b[0m\u001b[0;34m)\u001b[0m\u001b[0;34m\u001b[0m\u001b[0;34m\u001b[0m\u001b[0m\n\u001b[1;32m   2978\u001b[0m \u001b[0;34m\u001b[0m\u001b[0m\n\u001b[0;32m-> 2979\u001b[0;31m             \u001b[0;32mreturn\u001b[0m \u001b[0mself\u001b[0m\u001b[0;34m.\u001b[0m\u001b[0m_call\u001b[0m\u001b[0;34m(\u001b[0m\u001b[0minputs\u001b[0m\u001b[0;34m)\u001b[0m\u001b[0;34m\u001b[0m\u001b[0;34m\u001b[0m\u001b[0m\n\u001b[0m\u001b[1;32m   2980\u001b[0m         \u001b[0;32melse\u001b[0m\u001b[0;34m:\u001b[0m\u001b[0;34m\u001b[0m\u001b[0;34m\u001b[0m\u001b[0m\n\u001b[1;32m   2981\u001b[0m             \u001b[0;32mif\u001b[0m \u001b[0mpy_any\u001b[0m\u001b[0;34m(\u001b[0m\u001b[0mis_tensor\u001b[0m\u001b[0;34m(\u001b[0m\u001b[0mx\u001b[0m\u001b[0;34m)\u001b[0m \u001b[0;32mfor\u001b[0m \u001b[0mx\u001b[0m \u001b[0;32min\u001b[0m \u001b[0minputs\u001b[0m\u001b[0;34m)\u001b[0m\u001b[0;34m:\u001b[0m\u001b[0;34m\u001b[0m\u001b[0;34m\u001b[0m\u001b[0m\n",
            "\u001b[0;32m/usr/local/lib/python3.6/dist-packages/keras/backend/tensorflow_backend.py\u001b[0m in \u001b[0;36m_call\u001b[0;34m(self, inputs)\u001b[0m\n\u001b[1;32m   2935\u001b[0m             \u001b[0mfetched\u001b[0m \u001b[0;34m=\u001b[0m \u001b[0mself\u001b[0m\u001b[0;34m.\u001b[0m\u001b[0m_callable_fn\u001b[0m\u001b[0;34m(\u001b[0m\u001b[0;34m*\u001b[0m\u001b[0marray_vals\u001b[0m\u001b[0;34m,\u001b[0m \u001b[0mrun_metadata\u001b[0m\u001b[0;34m=\u001b[0m\u001b[0mself\u001b[0m\u001b[0;34m.\u001b[0m\u001b[0mrun_metadata\u001b[0m\u001b[0;34m)\u001b[0m\u001b[0;34m\u001b[0m\u001b[0;34m\u001b[0m\u001b[0m\n\u001b[1;32m   2936\u001b[0m         \u001b[0;32melse\u001b[0m\u001b[0;34m:\u001b[0m\u001b[0;34m\u001b[0m\u001b[0;34m\u001b[0m\u001b[0m\n\u001b[0;32m-> 2937\u001b[0;31m             \u001b[0mfetched\u001b[0m \u001b[0;34m=\u001b[0m \u001b[0mself\u001b[0m\u001b[0;34m.\u001b[0m\u001b[0m_callable_fn\u001b[0m\u001b[0;34m(\u001b[0m\u001b[0;34m*\u001b[0m\u001b[0marray_vals\u001b[0m\u001b[0;34m)\u001b[0m\u001b[0;34m\u001b[0m\u001b[0;34m\u001b[0m\u001b[0m\n\u001b[0m\u001b[1;32m   2938\u001b[0m         \u001b[0;32mreturn\u001b[0m \u001b[0mfetched\u001b[0m\u001b[0;34m[\u001b[0m\u001b[0;34m:\u001b[0m\u001b[0mlen\u001b[0m\u001b[0;34m(\u001b[0m\u001b[0mself\u001b[0m\u001b[0;34m.\u001b[0m\u001b[0moutputs\u001b[0m\u001b[0;34m)\u001b[0m\u001b[0;34m]\u001b[0m\u001b[0;34m\u001b[0m\u001b[0;34m\u001b[0m\u001b[0m\n\u001b[1;32m   2939\u001b[0m \u001b[0;34m\u001b[0m\u001b[0m\n",
            "\u001b[0;32m/tensorflow-1.15.0/python3.6/tensorflow_core/python/client/session.py\u001b[0m in \u001b[0;36m__call__\u001b[0;34m(self, *args, **kwargs)\u001b[0m\n\u001b[1;32m   1470\u001b[0m         ret = tf_session.TF_SessionRunCallable(self._session._session,\n\u001b[1;32m   1471\u001b[0m                                                \u001b[0mself\u001b[0m\u001b[0;34m.\u001b[0m\u001b[0m_handle\u001b[0m\u001b[0;34m,\u001b[0m \u001b[0margs\u001b[0m\u001b[0;34m,\u001b[0m\u001b[0;34m\u001b[0m\u001b[0;34m\u001b[0m\u001b[0m\n\u001b[0;32m-> 1472\u001b[0;31m                                                run_metadata_ptr)\n\u001b[0m\u001b[1;32m   1473\u001b[0m         \u001b[0;32mif\u001b[0m \u001b[0mrun_metadata\u001b[0m\u001b[0;34m:\u001b[0m\u001b[0;34m\u001b[0m\u001b[0;34m\u001b[0m\u001b[0m\n\u001b[1;32m   1474\u001b[0m           \u001b[0mproto_data\u001b[0m \u001b[0;34m=\u001b[0m \u001b[0mtf_session\u001b[0m\u001b[0;34m.\u001b[0m\u001b[0mTF_GetBuffer\u001b[0m\u001b[0;34m(\u001b[0m\u001b[0mrun_metadata_ptr\u001b[0m\u001b[0;34m)\u001b[0m\u001b[0;34m\u001b[0m\u001b[0;34m\u001b[0m\u001b[0m\n",
            "\u001b[0;31mKeyboardInterrupt\u001b[0m: "
          ]
        }
      ]
    },
    {
      "cell_type": "code",
      "metadata": {
        "id": "m4B_0P7d-TAg",
        "colab_type": "code",
        "outputId": "d6010496-d742-4ac9-87a4-74d856fd9c86",
        "colab": {
          "base_uri": "https://localhost:8080/",
          "height": 265
        }
      },
      "source": [
        "  plt.plot(history.history['loss'], label='train')\n",
        "plt.plot(history.history['val_loss'], label='test')\n",
        "plt.legend()\n",
        "plt.savefig('loss')\n",
        "plt.show()"
      ],
      "execution_count": 0,
      "outputs": [
        {
          "output_type": "display_data",
          "data": {
            "image/png": "[encoded data removed]",
            "text/plain": [
              "<Figure size 432x288 with 1 Axes>"
            ]
          },
          "metadata": {
            "tags": []
          }
        }
      ]
    },
    {
      "cell_type": "code",
      "metadata": {
        "id": "slU4B4DL-S9G",
        "colab_type": "code",
        "outputId": "39308a2a-e8c7-434e-86c9-019442ac4999",
        "colab": {
          "base_uri": "https://localhost:8080/",
          "height": 265
        }
      },
      "source": [
        "plt.plot(history.history['acc'], label='train')\n",
        "plt.plot(history.history['val_acc'], label='test')\n",
        "plt.legend()\n",
        "plt.show()"
      ],
      "execution_count": 0,
      "outputs": [
        {
          "output_type": "display_data",
          "data": {
            "image/png": "[encoded data removed]",
            "text/plain": [
              "<Figure size 432x288 with 1 Axes>"
            ]
          },
          "metadata": {
            "tags": []
          }
        }
      ]
    },
    {
      "cell_type": "code",
      "metadata": {
        "id": "KBdkWbdx-S0J",
        "colab_type": "code",
        "colab": {}
      },
      "source": [
        ""
      ],
      "execution_count": 0,
      "outputs": []
    }
  ]
}